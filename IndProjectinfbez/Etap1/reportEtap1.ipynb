{
 "cells": [
  {
   "cell_type": "markdown",
   "metadata": {},
   "source": [
    "# Этап 1 индивидуального проекта\n",
    "## Основы информационной безопасности\n",
    "### Олейник А.А.; НКАбд-03-22\n",
    "\n",
    "\n",
    "\n",
    "\n",
    "# Содержание\n",
    "\n",
    "# 1\tЦель работы\n",
    "Установить кали линукс на VirtualBox также создать пользователя\n",
    "# 2\tЗадание\n",
    "1.Скачать iso kali linux\n",
    "2.Установить kali linux на VirtualBox\n",
    "3.Создать пользователя\n",
    "# 4\tВыполнение лабораторной работы\n",
    "1. Скачал Kali с офф.сайта\n",
    "2.Разархивировал на рабочий стол\n",
    "3.Поставил образ на VirtualBox\n",
    "4.Настроил диск под образ\n",
    "5.Начал установку\n",
    "6.Создал пользователя\n",
    "# 5\tВыводы\n",
    "Научился ставить Kali Linux на VirtualBox,а также создавать нового пользователя в системе Kali Linux\n",
    "# Список литературы\n",
    "1. \tСтруктура и типы файловых систем в Linux [Электронный ресурс]. URL: https://selectel.ru/blog/directory-structure-linux/.\n",
    "2. \tТипы файловых систем, их предназначение и отличия [Электронный ресурс]. URL: https://timeweb.com/ru/community/articles/tipy-faylovyh-sistem-ih-prednaznachenie-i-otlichiya#:~:text=Основные%20файловые%20системы%2C%20используемые%20в,с%20редкими%20изменениями%20кодовой%20базы."
   ]
  },
  {
   "cell_type": "code",
   "execution_count": null,
   "metadata": {},
   "outputs": [],
   "source": []
  }
 ],
 "metadata": {
  "kernelspec": {
   "display_name": "SageMath 9.3",
   "language": "sage",
   "name": "sagemath"
  },
  "language_info": {
   "codemirror_mode": {
    "name": "ipython",
    "version": 3
   },
   "file_extension": ".py",
   "mimetype": "text/x-python",
   "name": "python",
   "nbconvert_exporter": "python",
   "pygments_lexer": "ipython3",
   "version": "3.7.10"
  }
 },
 "nbformat": 4,
 "nbformat_minor": 4
}
